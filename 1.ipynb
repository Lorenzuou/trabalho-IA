{
 "cells": [
  {
   "cell_type": "code",
   "execution_count": 12,
   "metadata": {},
   "outputs": [],
   "source": [
    "# Heterogeneous pooling\n",
    "import pandas as pd\n",
    "import numpy as np\n",
    "from sklearn.model_selection import cross_val_score\n",
    "from sklearn.model_selection import RepeatedStratifiedKFold\n",
    "from sklearn.model_selection import GridSearchCV\n",
    "from sklearn.model_selection import train_test_split\n",
    "from sklearn.metrics import accuracy_score\n",
    "\n",
    "\n",
    "from sklearn.discriminant_analysis import StandardScaler\n",
    "from sklearn.pipeline import Pipeline\n",
    "from tqdm import tqdm\n"
   ]
  },
  {
   "cell_type": "code",
   "execution_count": 18,
   "metadata": {},
   "outputs": [],
   "source": [
    "# all the data will be stored in this dataframe, with the method name, mean accuracy, standard deviation, lower and upper bound\n",
    "df = pd.DataFrame(columns=['method', 'mean', 'std', 'lower', 'upper'])\n",
    "\n",
    "df_per_fold = pd.DataFrame(columns=['method', 'fold', 'mean','std', 'lower', 'upper'])\n",
    "\n"
   ]
  },
  {
   "cell_type": "code",
   "execution_count": 4,
   "metadata": {},
   "outputs": [],
   "source": [
    "X = pd.read_csv('X.csv')\n",
    "y = pd.read_csv('y.csv')\n",
    "\n",
    "\n",
    "# split the data into train and test sets\n",
    "X_train, X_test, y_train, y_test = train_test_split(X, y, test_size=0.2)\n",
    "\n"
   ]
  },
  {
   "cell_type": "code",
   "execution_count": 5,
   "metadata": {},
   "outputs": [
    {
     "name": "stderr",
     "output_type": "stream",
     "text": [
      "/tmp/ipykernel_3066203/1863649893.py:10: FutureWarning: The frame.append method is deprecated and will be removed from pandas in a future version. Use pandas.concat instead.\n",
      "  df = df.append({'method': 'ZR', 'mean': scores.mean(), 'std': scores.std(), 'lower': scores.mean() - scores.std(), 'upper': scores.mean() + scores.std()}, ignore_index=True)\n"
     ]
    }
   ],
   "source": [
    "# Zero Rule Baseline\n",
    "from sklearn.dummy import DummyClassifier\n",
    "\n",
    "clf = DummyClassifier(strategy='most_frequent')\n",
    "\n",
    "cv = RepeatedStratifiedKFold(n_splits=10, n_repeats=3, random_state=1)\n",
    "\n",
    "scores = cross_val_score(clf, X_train, y_train, scoring='accuracy', cv=cv, n_jobs=-1)\n",
    "\n",
    "df = df.append({'method': 'ZR', 'mean': scores.mean(), 'std': scores.std(), 'lower': scores.mean() - scores.std(), 'upper': scores.mean() + scores.std()}, ignore_index=True)\n"
   ]
  },
  {
   "cell_type": "code",
   "execution_count": 16,
   "metadata": {},
   "outputs": [],
   "source": [
    "def train_model(model,params_grid,name): \n",
    "    cv_inner = RepeatedStratifiedKFold(n_splits=4, n_repeats=3, random_state=1)\n",
    "    cv_outer = RepeatedStratifiedKFold(n_splits=10, n_repeats=3, random_state=1)\n",
    "\n",
    "    pipe = Pipeline(steps=[('s', StandardScaler()), ('m', model)])\n",
    "\n",
    "    params = params_grid\n",
    "    counter = 0\n",
    "    scores = []\n",
    "    best_acc = 0\n",
    "    for train_ix, test_ix in tqdm(cv_outer.split(X_train, y_train)):\n",
    "        # split data\n",
    "        X_train_inner, X_test_inner = X_train.iloc[train_ix, :], X_train.iloc[test_ix, :]\n",
    "        y_train_inner, y_test_inner = y_train.iloc[train_ix], y_train.iloc[test_ix]\n",
    "\n",
    "        # define search\n",
    "        search = GridSearchCV(pipe, param_grid=params, scoring='accuracy', cv=cv_inner, n_jobs=-1)\n",
    "\n",
    "        rkf = RepeatedStratifiedKFold(n_splits=10, n_repeats=3, random_state=1)\n",
    "\n",
    "        # execute search\n",
    "        result = cross_val_score(search, X_train_inner, y_train_inner.values.ravel(), cv=rkf, n_jobs=-1)\n",
    "\n",
    "        scores.append(result.mean())\n",
    "        df_per_fold = df_per_fold.append({'method': name, 'fold': counter, 'mean': result.mean(), 'std': result.std(), 'lower': result.mean() - result.std(), 'upper': result.mean() + result.std()}, ignore_index=True)\n",
    "        counter += 1\n",
    "        # check the best model\n",
    "        if result.mean() > best_acc:\n",
    "            best_acc = result.mean()\n",
    "            best_model = search\n",
    "\n",
    "    df = pd.concat([df, pd.DataFrame({'method': [name], 'mean': [np.mean(scores)], 'std': [np.std(scores)], 'lower': [np.mean(scores) - np.std(scores)], 'upper': [np.mean(scores) + np.std(scores)]})], ignore_index=True)\n",
    "    return df"
   ]
  },
  {
   "cell_type": "code",
   "execution_count": 17,
   "metadata": {},
   "outputs": [
    {
     "name": "stderr",
     "output_type": "stream",
     "text": [
      "30it [01:14,  2.47s/it]\n"
     ]
    },
    {
     "ename": "UnboundLocalError",
     "evalue": "local variable 'df' referenced before assignment",
     "output_type": "error",
     "traceback": [
      "\u001b[0;31m---------------------------------------------------------------------------\u001b[0m",
      "\u001b[0;31mUnboundLocalError\u001b[0m                         Traceback (most recent call last)",
      "Cell \u001b[0;32mIn[17], line 12\u001b[0m\n\u001b[1;32m      6\u001b[0m name \u001b[39m=\u001b[39m \u001b[39m'\u001b[39m\u001b[39mBG\u001b[39m\u001b[39m'\u001b[39m\n\u001b[1;32m      8\u001b[0m params_grid \u001b[39m=\u001b[39m {\n\u001b[1;32m      9\u001b[0m     \u001b[39m'\u001b[39m\u001b[39mm__n_estimators\u001b[39m\u001b[39m'\u001b[39m: [\u001b[39m3\u001b[39m,\u001b[39m9\u001b[39m,\u001b[39m15\u001b[39m,\u001b[39m12\u001b[39m]\n\u001b[1;32m     10\u001b[0m     } \n\u001b[0;32m---> 12\u001b[0m df \u001b[39m=\u001b[39m train_model(bg,params_grid,name)\n",
      "Cell \u001b[0;32mIn[16], line 30\u001b[0m, in \u001b[0;36mtrain_model\u001b[0;34m(model, params_grid, name)\u001b[0m\n\u001b[1;32m     27\u001b[0m         best_acc \u001b[39m=\u001b[39m result\u001b[39m.\u001b[39mmean()\n\u001b[1;32m     28\u001b[0m         best_model \u001b[39m=\u001b[39m search\n\u001b[0;32m---> 30\u001b[0m df \u001b[39m=\u001b[39m pd\u001b[39m.\u001b[39mconcat([df, pd\u001b[39m.\u001b[39mDataFrame({\u001b[39m'\u001b[39m\u001b[39mmethod\u001b[39m\u001b[39m'\u001b[39m: [name], \u001b[39m'\u001b[39m\u001b[39mmean\u001b[39m\u001b[39m'\u001b[39m: [np\u001b[39m.\u001b[39mmean(scores)], \u001b[39m'\u001b[39m\u001b[39mstd\u001b[39m\u001b[39m'\u001b[39m: [np\u001b[39m.\u001b[39mstd(scores)], \u001b[39m'\u001b[39m\u001b[39mlower\u001b[39m\u001b[39m'\u001b[39m: [np\u001b[39m.\u001b[39mmean(scores) \u001b[39m-\u001b[39m np\u001b[39m.\u001b[39mstd(scores)], \u001b[39m'\u001b[39m\u001b[39mupper\u001b[39m\u001b[39m'\u001b[39m: [np\u001b[39m.\u001b[39mmean(scores) \u001b[39m+\u001b[39m np\u001b[39m.\u001b[39mstd(scores)]})], ignore_index\u001b[39m=\u001b[39m\u001b[39mTrue\u001b[39;00m)\n\u001b[1;32m     31\u001b[0m \u001b[39mreturn\u001b[39;00m df\n",
      "\u001b[0;31mUnboundLocalError\u001b[0m: local variable 'df' referenced before assignment"
     ]
    }
   ],
   "source": [
    "from sklearn.ensemble import BaggingClassifier\n",
    "\n",
    "\n",
    "bg = BaggingClassifier(n_estimators=3)\n",
    "\n",
    "name = 'BG'\n",
    "\n",
    "params_grid = {\n",
    "    'm__n_estimators': [3,9,15,12]\n",
    "    } \n",
    "\n",
    "df = train_model(bg,params_grid,name)\n"
   ]
  },
  {
   "cell_type": "code",
   "execution_count": null,
   "metadata": {},
   "outputs": [],
   "source": [
    "from sklearn.ensemble import AdaBoostClassifier\n",
    "\n",
    "ada = AdaBoostClassifier(n_estimators=3)\n",
    "\n",
    "name = 'ADA'\n",
    "\n",
    "params_grid = {\n",
    "    'm__n_estimators': [3,9,15,12]\n",
    "    }\n",
    "\n",
    "df = train_model(ada,params_grid,name)"
   ]
  },
  {
   "cell_type": "code",
   "execution_count": 13,
   "metadata": {},
   "outputs": [
    {
     "name": "stderr",
     "output_type": "stream",
     "text": [
      "30it [01:12,  2.42s/it]\n"
     ]
    }
   ],
   "source": [
    "from sklearn.ensemble import RandomForestClassifier\n",
    "\n",
    "\n",
    "rf = RandomForestClassifier()\n",
    "\n",
    "name = 'RF'\n",
    "\n",
    "params_grid = {\n",
    "    'm__n_estimators': [3,9,15,12]\n",
    "} \n",
    "\n",
    "\n",
    "df = train_model(rf,params_grid,name)"
   ]
  },
  {
   "cell_type": "code",
   "execution_count": null,
   "metadata": {},
   "outputs": [],
   "source": []
  }
 ],
 "metadata": {
  "kernelspec": {
   "display_name": "Python 3",
   "language": "python",
   "name": "python3"
  },
  "language_info": {
   "codemirror_mode": {
    "name": "ipython",
    "version": 3
   },
   "file_extension": ".py",
   "mimetype": "text/x-python",
   "name": "python",
   "nbconvert_exporter": "python",
   "pygments_lexer": "ipython3",
   "version": "3.10.6"
  },
  "orig_nbformat": 4,
  "vscode": {
   "interpreter": {
    "hash": "31f2aee4e71d21fbe5cf8b01ff0e069b9275f58929596ceb00d14d90e3e16cd6"
   }
  }
 },
 "nbformat": 4,
 "nbformat_minor": 2
}

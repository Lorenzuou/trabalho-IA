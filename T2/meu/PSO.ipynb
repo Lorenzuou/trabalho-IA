{
 "cells": [
  {
   "attachments": {},
   "cell_type": "markdown",
   "id": "negative-sapphire",
   "metadata": {},
   "source": [
    "# Busca (Parte III)"
   ]
  },
  {
   "attachments": {},
   "cell_type": "markdown",
   "id": "local-garlic",
   "metadata": {},
   "source": [
    "## Mochila com Número Irrestrito de Itens com Valor"
   ]
  },
  {
   "cell_type": "code",
   "execution_count": 1,
   "id": "marked-emergency",
   "metadata": {},
   "outputs": [],
   "source": [
    "max_size = 19\n",
    "items = [(1,3),(4,6),(5,7)]"
   ]
  },
  {
   "attachments": {},
   "cell_type": "markdown",
   "id": "committed-basic",
   "metadata": {},
   "source": [
    "Tamanho de Estados"
   ]
  },
  {
   "cell_type": "code",
   "execution_count": 2,
   "id": "concrete-medicine",
   "metadata": {},
   "outputs": [],
   "source": [
    "def state_size(state, items):\n",
    "    size = 0\n",
    "    for i in range(len(state)):\n",
    "        size += state[i] * items[i][1]\n",
    "    return size"
   ]
  },
  {
   "cell_type": "code",
   "execution_count": 3,
   "id": "spiritual-drive",
   "metadata": {},
   "outputs": [
    {
     "data": {
      "text/plain": [
       "16"
      ]
     },
     "execution_count": 3,
     "metadata": {},
     "output_type": "execute_result"
    }
   ],
   "source": [
    "state_size([1,1,1], items)"
   ]
  },
  {
   "attachments": {},
   "cell_type": "markdown",
   "id": "potential-hacker",
   "metadata": {},
   "source": [
    "Avaliação de Estados"
   ]
  },
  {
   "cell_type": "code",
   "execution_count": 4,
   "id": "blank-turner",
   "metadata": {},
   "outputs": [],
   "source": [
    "def evaluate_state(state, items):\n",
    "    value = 0\n",
    "    for i in range(len(state)):\n",
    "        value += state[i] * items[i][0]\n",
    "    return value"
   ]
  },
  {
   "cell_type": "code",
   "execution_count": 5,
   "id": "twenty-drinking",
   "metadata": {},
   "outputs": [
    {
     "data": {
      "text/plain": [
       "9"
      ]
     },
     "execution_count": 5,
     "metadata": {},
     "output_type": "execute_result"
    }
   ],
   "source": [
    "evaluate_state([1,2,0], items)"
   ]
  },
  {
   "attachments": {},
   "cell_type": "markdown",
   "id": "associate-reporter",
   "metadata": {},
   "source": [
    "Geração de Estados"
   ]
  },
  {
   "cell_type": "code",
   "execution_count": 6,
   "id": "chubby-factor",
   "metadata": {},
   "outputs": [],
   "source": [
    "def generate_states(initial_state):\n",
    "    states = []\n",
    "    for i in range (len(initial_state)):\n",
    "        aux = initial_state.copy()\n",
    "        aux[i] = initial_state[i] + 1\n",
    "        states.append(aux)\n",
    "    return states"
   ]
  },
  {
   "cell_type": "code",
   "execution_count": 7,
   "id": "bacterial-clone",
   "metadata": {},
   "outputs": [
    {
     "data": {
      "text/plain": [
       "[[1, 0, 0], [0, 1, 0], [0, 0, 1]]"
      ]
     },
     "execution_count": 7,
     "metadata": {},
     "output_type": "execute_result"
    }
   ],
   "source": [
    "generate_states([0,0,0])"
   ]
  },
  {
   "attachments": {},
   "cell_type": "markdown",
   "id": "marked-treatment",
   "metadata": {},
   "source": [
    "Roleta"
   ]
  },
  {
   "attachments": {},
   "cell_type": "markdown",
   "id": "cleared-asthma",
   "metadata": {},
   "source": [
    "Soma de valores de todos os estados"
   ]
  },
  {
   "cell_type": "code",
   "execution_count": 8,
   "id": "vulnerable-literature",
   "metadata": {},
   "outputs": [],
   "source": [
    "def states_total_value(states):\n",
    "    total_sum = 0\n",
    "    for state in states:\n",
    "        total_sum = total_sum + state[0]\n",
    "    return total_sum"
   ]
  },
  {
   "cell_type": "code",
   "execution_count": 9,
   "id": "technical-warren",
   "metadata": {},
   "outputs": [
    {
     "data": {
      "text/plain": [
       "10"
      ]
     },
     "execution_count": 9,
     "metadata": {},
     "output_type": "execute_result"
    }
   ],
   "source": [
    "states_total_value([(1, [1,0,0]), (4, [0, 1, 0]), (5, [0, 0, 1])])"
   ]
  },
  {
   "attachments": {},
   "cell_type": "markdown",
   "id": "careful-association",
   "metadata": {},
   "source": [
    "Construção da roleta"
   ]
  },
  {
   "cell_type": "code",
   "execution_count": 10,
   "id": "headed-crowd",
   "metadata": {},
   "outputs": [],
   "source": [
    "def roulette_construction(states):\n",
    "    aux_states = []\n",
    "    roulette = []\n",
    "    total_value = states_total_value(states)\n",
    "\n",
    "    for state in states:\n",
    "        value = state[0]\n",
    "        if total_value != 0:\n",
    "            ratio = value/total_value\n",
    "        else:\n",
    "            ratio = 1\n",
    "        aux_states.append((ratio,state[1]))\n",
    " \n",
    "    acc_value = 0\n",
    "    for state in aux_states:\n",
    "        acc_value = acc_value + state[0]\n",
    "        s = (acc_value,state[1])\n",
    "        roulette.append(s)\n",
    "    return roulette"
   ]
  },
  {
   "cell_type": "code",
   "execution_count": 11,
   "id": "proud-width",
   "metadata": {},
   "outputs": [
    {
     "data": {
      "text/plain": [
       "[(0.1, [1, 0, 0]), (0.5, [0, 1, 0]), (1.0, [0, 0, 1])]"
      ]
     },
     "execution_count": 11,
     "metadata": {},
     "output_type": "execute_result"
    }
   ],
   "source": [
    "roulette_construction([(1, [1,0,0]), (4, [0, 1, 0]), (5, [0, 0, 1])])"
   ]
  },
  {
   "attachments": {},
   "cell_type": "markdown",
   "id": "infinite-horizontal",
   "metadata": {},
   "source": [
    "Rodar a roleta"
   ]
  },
  {
   "cell_type": "code",
   "execution_count": 12,
   "id": "local-spelling",
   "metadata": {},
   "outputs": [],
   "source": [
    "import random\n",
    "\n",
    "def roulette_run (rounds, roulette):\n",
    "    if roulette == []:\n",
    "        return []\n",
    "    selected = []\n",
    "    while len(selected) < rounds:\n",
    "        r = random.uniform(0,1)\n",
    "        for state in roulette:\n",
    "            if r <= state[0]:\n",
    "                selected.append(state[1])\n",
    "                break\n",
    "    return selected"
   ]
  },
  {
   "cell_type": "code",
   "execution_count": 13,
   "id": "desperate-infrared",
   "metadata": {},
   "outputs": [
    {
     "data": {
      "text/plain": [
       "[[0, 0, 1]]"
      ]
     },
     "execution_count": 13,
     "metadata": {},
     "output_type": "execute_result"
    }
   ],
   "source": [
    "roulette_run (1, [(0.1, [1, 0, 0]), (0.5, [0, 1, 0]), (1.0, [0, 0, 1])])"
   ]
  },
  {
   "attachments": {},
   "cell_type": "markdown",
   "id": "massive-probe",
   "metadata": {},
   "source": [
    "Estado Inicial Aleatório"
   ]
  },
  {
   "cell_type": "code",
   "execution_count": 14,
   "id": "humanitarian-standard",
   "metadata": {},
   "outputs": [],
   "source": [
    "import random\n",
    "\n",
    "def generate_initial_state(max_size, items):\n",
    "    initial_state = []\n",
    "    for i in range(len(items)):\n",
    "        initial_state.append(random.randint(0,max_size//items[i][1]))\n",
    "    if state_size(initial_state,items) > max_size:\n",
    "        while True:\n",
    "            for i in range(len(items)):\n",
    "                if initial_state[i] > 0:\n",
    "                    initial_state[i] = initial_state[i] - 1\n",
    "                    if state_size(initial_state,items) <= max_size:\n",
    "                        return initial_state\n",
    "    return initial_state"
   ]
  },
  {
   "cell_type": "code",
   "execution_count": 15,
   "id": "divided-correlation",
   "metadata": {},
   "outputs": [
    {
     "data": {
      "text/plain": [
       "[3, 1, 0]"
      ]
     },
     "execution_count": 15,
     "metadata": {},
     "output_type": "execute_result"
    }
   ],
   "source": [
    "generate_initial_state(max_size, items)"
   ]
  },
  {
   "attachments": {},
   "cell_type": "markdown",
   "id": "metropolitan-setting",
   "metadata": {},
   "source": [
    "Primeiro elemento de uma lista ou tupla"
   ]
  },
  {
   "cell_type": "code",
   "execution_count": 16,
   "id": "friendly-tobago",
   "metadata": {},
   "outputs": [],
   "source": [
    "def first(x):\n",
    "    return x[0]"
   ]
  },
  {
   "attachments": {},
   "cell_type": "markdown",
   "id": "basic-watts",
   "metadata": {},
   "source": [
    "Operador de Seleção"
   ]
  },
  {
   "cell_type": "code",
   "execution_count": 17,
   "id": "thousand-shanghai",
   "metadata": {},
   "outputs": [],
   "source": [
    "def selection(value_population,n):\n",
    "    aux_population = roulette_construction(value_population)\n",
    "    new_population = roulette_run(n, aux_population)\n",
    "    return new_population"
   ]
  },
  {
   "cell_type": "code",
   "execution_count": 18,
   "id": "distinguished-sherman",
   "metadata": {},
   "outputs": [
    {
     "data": {
      "text/plain": [
       "[[1, 1, 1], [1, 1, 0], [1, 0, 1]]"
      ]
     },
     "execution_count": 18,
     "metadata": {},
     "output_type": "execute_result"
    }
   ],
   "source": [
    "pop = [(1, [1, 0, 0]), (4, [0, 1, 0]), (5, [0, 0, 1]), (5, [1, 1, 0]), (6, [1, 0, 1]), (10, [1, 1, 1])]\n",
    "selection (pop, 3)"
   ]
  },
  {
   "attachments": {},
   "cell_type": "markdown",
   "id": "productive-paradise",
   "metadata": {},
   "source": [
    "Operador de Recombinação"
   ]
  },
  {
   "cell_type": "code",
   "execution_count": 19,
   "id": "returning-cursor",
   "metadata": {},
   "outputs": [],
   "source": [
    "def crossover(dad,mom):\n",
    "    r = random.randint(0, len(dad) - 1)\n",
    "    son = dad[:r]+mom[r:]\n",
    "    daug = mom[:r]+dad[r:]\n",
    "    return son, daug"
   ]
  },
  {
   "cell_type": "code",
   "execution_count": 20,
   "id": "nominated-webcam",
   "metadata": {},
   "outputs": [
    {
     "data": {
      "text/plain": [
       "([0, 0, 0, 1, 1, 1], [1, 1, 1, 0, 0, 0])"
      ]
     },
     "execution_count": 20,
     "metadata": {},
     "output_type": "execute_result"
    }
   ],
   "source": [
    "crossover([0,0,0,0,0,0],[1,1,1,1,1,1])"
   ]
  },
  {
   "attachments": {},
   "cell_type": "markdown",
   "id": "forced-vatican",
   "metadata": {},
   "source": [
    "Operador de Mutação"
   ]
  },
  {
   "cell_type": "code",
   "execution_count": 21,
   "id": "primary-paintball",
   "metadata": {},
   "outputs": [],
   "source": [
    "def mutation (indiv):\n",
    "    individual = indiv.copy()\n",
    "    rand = random.randint(0, len(individual) - 1)\n",
    "    if individual[rand] > 0:\n",
    "        r = random.uniform(0,1)\n",
    "        if r > 0.5:\n",
    "            individual[rand] = individual[rand] + 1\n",
    "        else:\n",
    "            individual[rand] = individual[rand] - 1\n",
    "    else:\n",
    "        individual[rand] = individual[rand] + 1\n",
    "        \n",
    "    return individual"
   ]
  },
  {
   "cell_type": "code",
   "execution_count": 22,
   "id": "renewable-seeking",
   "metadata": {},
   "outputs": [
    {
     "data": {
      "text/plain": [
       "[1, 3, 1, 0, 1, 3]"
      ]
     },
     "execution_count": 22,
     "metadata": {},
     "output_type": "execute_result"
    }
   ],
   "source": [
    "mutation ([1,2,1,0,1,3])"
   ]
  },
  {
   "attachments": {},
   "cell_type": "markdown",
   "id": "aboriginal-assumption",
   "metadata": {},
   "source": [
    "População Inicial"
   ]
  },
  {
   "cell_type": "code",
   "execution_count": 23,
   "id": "floral-monster",
   "metadata": {},
   "outputs": [],
   "source": [
    "def initial_population(n, max_size, items):\n",
    "    pop = []\n",
    "    count = 0\n",
    "    while count < n:\n",
    "        individual = generate_initial_state(max_size, items)\n",
    "        pop = pop + [individual]\n",
    "        count += 1\n",
    "    return pop"
   ]
  },
  {
   "cell_type": "code",
   "execution_count": 24,
   "id": "resident-rainbow",
   "metadata": {},
   "outputs": [
    {
     "data": {
      "text/plain": [
       "[[3, 0, 1], [3, 1, 0], [0, 1, 0], [4, 1, 0], [1, 2, 0]]"
      ]
     },
     "execution_count": 24,
     "metadata": {},
     "output_type": "execute_result"
    }
   ],
   "source": [
    "initial_population(5, max_size, items)"
   ]
  },
  {
   "attachments": {},
   "cell_type": "markdown",
   "id": "naval-iraqi",
   "metadata": {},
   "source": [
    "Convergência"
   ]
  },
  {
   "cell_type": "code",
   "execution_count": 25,
   "id": "russian-tuning",
   "metadata": {},
   "outputs": [],
   "source": [
    "def convergent(population):\n",
    "    conv = False\n",
    "    if population != []:\n",
    "        base = population[0]\n",
    "        i = 0\n",
    "        while i < len(population):\n",
    "            if base != population[i]:\n",
    "                return False\n",
    "            i += 1\n",
    "        return True"
   ]
  },
  {
   "cell_type": "code",
   "execution_count": 26,
   "id": "interested-musical",
   "metadata": {},
   "outputs": [
    {
     "data": {
      "text/plain": [
       "True"
      ]
     },
     "execution_count": 26,
     "metadata": {},
     "output_type": "execute_result"
    }
   ],
   "source": [
    "convergent([[0, 0, 1], [0, 0, 1], [0, 0, 1], [0, 0, 1], [0, 0, 1]])"
   ]
  },
  {
   "attachments": {},
   "cell_type": "markdown",
   "id": "annual-cancer",
   "metadata": {},
   "source": [
    "Avaliação"
   ]
  },
  {
   "cell_type": "code",
   "execution_count": 27,
   "id": "secure-christianity",
   "metadata": {},
   "outputs": [],
   "source": [
    "def evaluate_population (pop, items):\n",
    "    eval = []\n",
    "    for s in pop:\n",
    "        eval = eval + [(evaluate_state(s, items), s)]\n",
    "    return eval        "
   ]
  },
  {
   "cell_type": "code",
   "execution_count": 28,
   "id": "atomic-group",
   "metadata": {},
   "outputs": [
    {
     "data": {
      "text/plain": [
       "[(6, [1, 0, 1]), (9, [0, 1, 1]), (5, [0, 0, 1])]"
      ]
     },
     "execution_count": 28,
     "metadata": {},
     "output_type": "execute_result"
    }
   ],
   "source": [
    "evaluate_population ([[1, 0, 1], [0, 1, 1], [0, 0, 1]], items)"
   ]
  },
  {
   "attachments": {},
   "cell_type": "markdown",
   "id": "second-parent",
   "metadata": {},
   "source": [
    "Elitismo"
   ]
  },
  {
   "cell_type": "code",
   "execution_count": 29,
   "id": "rocky-desperate",
   "metadata": {},
   "outputs": [],
   "source": [
    "import math\n",
    "\n",
    "def elitism (val_pop, pct):\n",
    "    n = math.floor((pct/100)*len(val_pop))\n",
    "    if n < 1:\n",
    "        n = 1\n",
    "    val_elite = sorted (val_pop, key = first, reverse = True)[:n]\n",
    "    elite = [s for v,s in val_elite]\n",
    "    return elite"
   ]
  },
  {
   "cell_type": "code",
   "execution_count": 30,
   "id": "favorite-thread",
   "metadata": {},
   "outputs": [
    {
     "data": {
      "text/plain": [
       "[[0, 1, 1], [1, 0, 1]]"
      ]
     },
     "execution_count": 30,
     "metadata": {},
     "output_type": "execute_result"
    }
   ],
   "source": [
    "elitism ([(6, [1, 0, 1]), (9, [0, 1, 1]), (5, [0, 0, 1])], 70)"
   ]
  },
  {
   "attachments": {},
   "cell_type": "markdown",
   "id": "danish-hindu",
   "metadata": {},
   "source": [
    "Etapa de Recombinação"
   ]
  },
  {
   "cell_type": "code",
   "execution_count": 31,
   "id": "smoking-intention",
   "metadata": {},
   "outputs": [],
   "source": [
    "def crossover_step (population, crossover_ratio, max_size, items):\n",
    "    new_pop = []\n",
    "    \n",
    "    for _ in range (round(len(population)/2)):\n",
    "        rand = random.uniform(0, 1)\n",
    "        fst_ind = random.randint(0, len(population) - 1)\n",
    "        scd_ind = random.randint(0, len(population) - 1)\n",
    "        parent1 = population[fst_ind] \n",
    "        parent2 = population[scd_ind]\n",
    "\n",
    "        if rand <= crossover_ratio:\n",
    "            offspring1, offspring2 = crossover(parent1, parent2)            \n",
    "            if state_size(offspring1, items) > max_size:\n",
    "                offspring1 = parent1\n",
    "            if state_size(offspring2, items) > max_size:\n",
    "                offspring2 = parent2\n",
    "        else:\n",
    "            offspring1, offspring2 = parent1, parent2\n",
    "                \n",
    "        new_pop = new_pop + [offspring1, offspring2]\n",
    "        \n",
    "    return new_pop"
   ]
  },
  {
   "cell_type": "code",
   "execution_count": 32,
   "id": "intense-mercury",
   "metadata": {},
   "outputs": [
    {
     "data": {
      "text/plain": [
       "[[0, 2, 1], [1, 1, 1], [1, 2, 0], [0, 2, 1]]"
      ]
     },
     "execution_count": 32,
     "metadata": {},
     "output_type": "execute_result"
    }
   ],
   "source": [
    "crossover_step ([[0, 2, 1], [1, 1, 1], [1, 2, 0], [3, 0, 1]], 0.8, max_size, items)"
   ]
  },
  {
   "attachments": {},
   "cell_type": "markdown",
   "id": "standard-radio",
   "metadata": {},
   "source": [
    "Etapa de Mutação"
   ]
  },
  {
   "cell_type": "code",
   "execution_count": 33,
   "id": "ranking-monroe",
   "metadata": {},
   "outputs": [],
   "source": [
    "def mutation_step (population, mutation_ratio, max_size, items):\n",
    "    ind = 0\n",
    "    for individual in population:\n",
    "        rand = random.uniform(0, 1)\n",
    "\n",
    "        if rand <= mutation_ratio:\n",
    "            mutated = mutation(individual)\n",
    "            if state_size(mutated, items) <= max_size:\n",
    "                population[ind] = mutated\n",
    "                \n",
    "        ind+=1\n",
    "        \n",
    "    return population   "
   ]
  },
  {
   "cell_type": "code",
   "execution_count": 34,
   "id": "cutting-placement",
   "metadata": {},
   "outputs": [
    {
     "data": {
      "text/plain": [
       "[[0, 2, 1], [1, 1, 1], [1, 2, 0], [3, 0, 0]]"
      ]
     },
     "execution_count": 34,
     "metadata": {},
     "output_type": "execute_result"
    }
   ],
   "source": [
    "mutation_step ([[0, 2, 1], [1, 1, 1], [1, 2, 0], [3, 0, 1]], 0.8, max_size, items)"
   ]
  },
  {
   "attachments": {},
   "cell_type": "markdown",
   "id": "desirable-company",
   "metadata": {},
   "source": [
    "Algoritmo Genético"
   ]
  },
  {
   "cell_type": "code",
   "execution_count": 35,
   "id": "designing-nightlife",
   "metadata": {},
   "outputs": [],
   "source": [
    "import time\n",
    "\n",
    "def genetic (max_size, items, pop_size, max_iter, cross_ratio, mut_ratio, max_time, elite_pct):\n",
    "# mut_ratio, max_time, elite_pct\n",
    "\n",
    "    start = time.process_time()\n",
    "    opt_state = [0] * len(items)\n",
    "    opt_value = 0\n",
    "    pop = initial_population(pop_size, max_size, items)\n",
    "    conv = convergent(pop)\n",
    "    iter = 0    \n",
    "    end = 0\n",
    "\n",
    "    while not conv and iter < max_iter and end-start <= max_time:\n",
    "        \n",
    "        val_pop = evaluate_population (pop, items)\n",
    "        new_pop = elitism (val_pop, elite_pct)\n",
    "        best = new_pop[0]\n",
    "        val_best = evaluate_state(best, items)\n",
    "\n",
    "        if (val_best > opt_value):\n",
    "            opt_state = best\n",
    "            opt_value = val_best\n",
    "\n",
    "        selected = selection(val_pop, pop_size - len(new_pop)) \n",
    "        crossed = crossover_step(selected, cross_ratio, max_size, items)\n",
    "        mutated = mutation_step(crossed, mut_ratio, max_size, items)\n",
    "        pop = new_pop + mutated\n",
    "        conv = convergent(pop)\n",
    "        iter+=1\n",
    "        end = time.process_time()\n",
    "        \n",
    "  \n",
    "    return opt_state, state_size(opt_state, items), opt_value, iter, conv\n"
   ]
  },
  {
   "cell_type": "code",
   "execution_count": 36,
   "id": "played-month",
   "metadata": {},
   "outputs": [
    {
     "data": {
      "text/plain": [
       "([0, 2, 1], 19, 13, 44, True)"
      ]
     },
     "execution_count": 36,
     "metadata": {},
     "output_type": "execute_result"
    }
   ],
   "source": [
    "genetic (max_size, items, 100, 200, 0.9, 0.1, 120, 20)"
   ]
  },
  {
   "cell_type": "code",
   "execution_count": 37,
   "id": "959675c7",
   "metadata": {},
   "outputs": [
    {
     "data": {
      "text/plain": [
       "([0,\n",
       "  0,\n",
       "  0,\n",
       "  0,\n",
       "  0,\n",
       "  0,\n",
       "  0,\n",
       "  0,\n",
       "  0,\n",
       "  0,\n",
       "  0,\n",
       "  0,\n",
       "  0,\n",
       "  0,\n",
       "  0,\n",
       "  0,\n",
       "  0,\n",
       "  0,\n",
       "  0,\n",
       "  0,\n",
       "  0,\n",
       "  0,\n",
       "  0,\n",
       "  0,\n",
       "  0,\n",
       "  0,\n",
       "  0,\n",
       "  0,\n",
       "  0,\n",
       "  0,\n",
       "  0,\n",
       "  0,\n",
       "  0,\n",
       "  0,\n",
       "  0,\n",
       "  0,\n",
       "  332,\n",
       "  0,\n",
       "  0,\n",
       "  0,\n",
       "  0,\n",
       "  0,\n",
       "  0,\n",
       "  0,\n",
       "  0,\n",
       "  0,\n",
       "  0,\n",
       "  0,\n",
       "  0,\n",
       "  0,\n",
       "  0,\n",
       "  0,\n",
       "  0,\n",
       "  0,\n",
       "  0,\n",
       "  0,\n",
       "  0,\n",
       "  0,\n",
       "  0,\n",
       "  0,\n",
       "  0,\n",
       "  0,\n",
       "  0,\n",
       "  0,\n",
       "  0,\n",
       "  0,\n",
       "  0,\n",
       "  0,\n",
       "  0,\n",
       "  0,\n",
       "  0,\n",
       "  0,\n",
       "  0,\n",
       "  0,\n",
       "  0,\n",
       "  0,\n",
       "  0,\n",
       "  0,\n",
       "  0,\n",
       "  0,\n",
       "  0,\n",
       "  0,\n",
       "  0,\n",
       "  0,\n",
       "  0,\n",
       "  0,\n",
       "  0,\n",
       "  2,\n",
       "  0,\n",
       "  0,\n",
       "  0,\n",
       "  0,\n",
       "  0,\n",
       "  0,\n",
       "  195,\n",
       "  0,\n",
       "  0,\n",
       "  0,\n",
       "  0,\n",
       "  0],\n",
       " 9987,\n",
       " 8052,\n",
       " 20,\n",
       " True)"
      ]
     },
     "execution_count": 37,
     "metadata": {},
     "output_type": "execute_result"
    }
   ],
   "source": [
    "complex_items = [(109, 130), (104, 267), (42, 71), (48, 125), (85, 190), (36, 55), (18, 48), (43, 132), (21, 69), (108, 450), (39, 71), (125, 348), (53, 193), (51, 97), (102, 158), (131, 258), (143, 433), (119, 267), (23, 89), (106, 348), (66, 174), (31, 81), (123, 372), (127, 176), (115, 419), (32, 130), (11, 22), (104, 453), (29, 126), (140, 384), (29, 82), (120, 286), (82, 188), (144, 425), (21, 83), (142, 567), (10, 14), (94, 166), (131, 173), (39, 113), (123, 428), (33, 83), (50, 217), (24, 52), (118, 471), (67, 277), (67, 252), (36, 124), (36, 104), (43, 168), (42, 173), (129, 423), (68, 238), (26, 69), (74, 261), (73, 258), (85, 215), (130, 174), (110, 348), (26, 75), (69, 198), (58, 210), (73, 193), (129, 393), (97, 160), (113, 348), (60, 209), (25, 64), (83, 334), (93, 101), (68, 184), (100, 436), (30, 100), (55, 155), (146, 613), (24, 68), (15, 34), (107, 273), (149, 427), (147, 611), (45, 151), (28, 121), (98, 228), (35, 84), (54, 132), (35, 75), (82, 317), (26, 37), (51, 132), (101, 373), (36, 82), (124, 528), (79, 112), (144, 293), (24, 27), (59, 264), (75, 84), (14, 45), (46, 93), (66, 115)]\n",
    "\n",
    "complex_max_size = 10000\n",
    "\n",
    "genetic (complex_max_size, complex_items, 100, 200, 0.9, 0.1, 120, 20)"
   ]
  },
  {
   "attachments": {},
   "cell_type": "markdown",
   "id": "115502b1",
   "metadata": {},
   "source": [
    "PSO"
   ]
  },
  {
   "cell_type": "code",
   "execution_count": 141,
   "id": "7c4df88a",
   "metadata": {},
   "outputs": [],
   "source": [
    "from math import floor\n",
    "\n",
    "\"\"\"def distance (x, y): #euclidean\n",
    "    sum = 0\n",
    "    for i in range(len(x)):\n",
    "        dif = x[i]-y[i]\n",
    "        sum += dif*dif\n",
    "    return sqrt (sum)\"\"\"\n",
    "\n",
    "class Particle:\n",
    "    w = 1\n",
    "    c1 = 1.2\n",
    "    c2 = 1.2\n",
    "    \n",
    "    def __init__(self, max_size, items):\n",
    "        self.pos = generate_initial_state(max_size, items)\n",
    "        self.vel = [0] * len(items)\n",
    "        self.opt = self.pos\n",
    "        self.opt_value = evaluate_state(self.opt, items) \n",
    "\n",
    "    def update_vel(self, best):\n",
    "        r1 = random.uniform(0, 1)\n",
    "        r2 = random.uniform(0, 1)\n",
    "        for i in range(len(self.vel)):\n",
    "            self.vel[i] = floor(Particle.w*self.vel[i] + Particle.c1*r1*(abs(self.opt[i] - self.pos[i])) + \n",
    "                                Particle.c2*r2*(abs(best[i] - self.pos[i])))\n",
    "        \n",
    "    def update_pos(self, max_size, items):\n",
    "        for i in range(len(self.pos)):\n",
    "            self.pos[i] += self.vel[i] \n",
    "            if state_size(self.pos, items) > max_size:\n",
    "                self.pos[i] -= self.vel[i]\n",
    "                return\n",
    "            \n",
    "    def update_local_optima(self, items):\n",
    "        eval_particle = evaluate_state(self.pos, items)\n",
    "        if eval_particle > self.opt_value:\n",
    "            self.opt = self.pos\n",
    "            self.opt_value = eval_particle \n",
    "\n",
    "    def get_pos(self):\n",
    "        return self.pos\n",
    "            \n",
    "    def get_local_optima(self):\n",
    "        return self.opt, self.opt_value"
   ]
  },
  {
   "cell_type": "code",
   "execution_count": 146,
   "id": "b2bafdb1",
   "metadata": {},
   "outputs": [],
   "source": [
    "class Swarm:\n",
    "\n",
    "    \n",
    "    def __init__(self, ms, its, ps):\n",
    "        Swarm.max_size = ms\n",
    "        Swarm.items = its\n",
    "        Swarm.pop_size = ps\n",
    "        self.best = [0] * len(items)\n",
    "        self.best_val = 0\n",
    "        self.pop = []\n",
    "        for i in range(Swarm.pop_size):\n",
    "            prtc = Particle(Swarm.max_size, Swarm.items)\n",
    "            particle_value = evaluate_state(prtc.get_pos(), Swarm.items)\n",
    "            self.pop.append(prtc)\n",
    "            if particle_value > self.best_val:\n",
    "                self.best = prtc.get_pos()\n",
    "                self.best_val = particle_value\n",
    "                \n",
    "    def update_swarm(self):\n",
    "        for i in range(Swarm.pop_size):\n",
    "            self.pop[i].update_vel(self.best)\n",
    "            self.pop[i].update_pos(Swarm.max_size, Swarm.items)\n",
    "            self.pop[i].update_local_optima(Swarm.items)\n",
    "            \n",
    "    def update_global_optima(self):\n",
    "        for i in range(Swarm.pop_size):\n",
    "            s, v = self.pop[i].get_local_optima()\n",
    "            if v > self.best_val:\n",
    "                self.best = s\n",
    "                self.best_val = v\n",
    "                \n",
    "    def get_population(self):\n",
    "        popul = []\n",
    "        for i in range(Swarm.pop_size):\n",
    "            popul.append(self.pop[i].get_pos())\n",
    "        return popul             \n",
    "                \n",
    "    def get_global_optima(self):\n",
    "        return self.best, self.best_val"
   ]
  },
  {
   "cell_type": "code",
   "execution_count": 149,
   "id": "d7688595",
   "metadata": {},
   "outputs": [],
   "source": [
    "def pso (max_size, items, pop_size, max_iter, max_time):\n",
    "    start = time.process_time()\n",
    "    itera = 0    \n",
    "    end = 0\n",
    "    pop = Swarm(max_size, items, pop_size)\n",
    "    \n",
    "    conv = convergent(pop.get_population())\n",
    "\n",
    "    while not conv and itera < max_iter and end-start <= max_time:   \n",
    "               \n",
    "        pop.update_swarm()\n",
    "        pop.update_global_optima()\n",
    "        conv = convergent(pop.get_population())\n",
    "        itera+=1\n",
    "        end = time.process_time()\n",
    "    \n",
    "    best, best_val = pop.get_global_optima()\n",
    "    return best, state_size(best, items), best_val, itera, conv   \n",
    "        "
   ]
  },
  {
   "cell_type": "code",
   "execution_count": 150,
   "id": "4904592d",
   "metadata": {},
   "outputs": [
    {
     "data": {
      "text/plain": [
       "([0, 2, 1], 19, 13, 200, False)"
      ]
     },
     "execution_count": 150,
     "metadata": {},
     "output_type": "execute_result"
    }
   ],
   "source": [
    "pso (max_size, items, 100, 200, 120)"
   ]
  },
  {
   "cell_type": "code",
   "execution_count": 151,
   "id": "895d036e",
   "metadata": {},
   "outputs": [
    {
     "data": {
      "text/plain": [
       "([0,\n",
       "  0,\n",
       "  0,\n",
       "  0,\n",
       "  0,\n",
       "  38,\n",
       "  0,\n",
       "  0,\n",
       "  0,\n",
       "  0,\n",
       "  0,\n",
       "  0,\n",
       "  0,\n",
       "  0,\n",
       "  0,\n",
       "  0,\n",
       "  0,\n",
       "  0,\n",
       "  0,\n",
       "  0,\n",
       "  0,\n",
       "  0,\n",
       "  0,\n",
       "  0,\n",
       "  0,\n",
       "  0,\n",
       "  0,\n",
       "  0,\n",
       "  0,\n",
       "  0,\n",
       "  0,\n",
       "  0,\n",
       "  0,\n",
       "  0,\n",
       "  0,\n",
       "  0,\n",
       "  120,\n",
       "  0,\n",
       "  0,\n",
       "  0,\n",
       "  0,\n",
       "  0,\n",
       "  0,\n",
       "  0,\n",
       "  0,\n",
       "  0,\n",
       "  0,\n",
       "  0,\n",
       "  0,\n",
       "  0,\n",
       "  0,\n",
       "  0,\n",
       "  0,\n",
       "  0,\n",
       "  0,\n",
       "  0,\n",
       "  0,\n",
       "  0,\n",
       "  0,\n",
       "  0,\n",
       "  0,\n",
       "  0,\n",
       "  0,\n",
       "  0,\n",
       "  0,\n",
       "  0,\n",
       "  0,\n",
       "  0,\n",
       "  0,\n",
       "  0,\n",
       "  0,\n",
       "  0,\n",
       "  0,\n",
       "  0,\n",
       "  0,\n",
       "  0,\n",
       "  0,\n",
       "  0,\n",
       "  0,\n",
       "  0,\n",
       "  0,\n",
       "  0,\n",
       "  0,\n",
       "  0,\n",
       "  0,\n",
       "  0,\n",
       "  0,\n",
       "  0,\n",
       "  0,\n",
       "  0,\n",
       "  0,\n",
       "  0,\n",
       "  0,\n",
       "  0,\n",
       "  224,\n",
       "  0,\n",
       "  0,\n",
       "  4,\n",
       "  0,\n",
       "  0],\n",
       " 9998,\n",
       " 8000,\n",
       " 200,\n",
       " False)"
      ]
     },
     "execution_count": 151,
     "metadata": {},
     "output_type": "execute_result"
    }
   ],
   "source": [
    "pso (complex_max_size, complex_items, 100, 200, 120)"
   ]
  },
  {
   "attachments": {},
   "cell_type": "markdown",
   "id": "grateful-lending",
   "metadata": {},
   "source": [
    "### Exercícios de Fixação"
   ]
  },
  {
   "attachments": {},
   "cell_type": "markdown",
   "id": "charming-catering",
   "metadata": {},
   "source": [
    "1. Considere o problema da mochila irrestrita com tamanho de mochila igual a 1381 e com a seguinte lista de pares (valor, tamanho) de itens {(1,3),(4,6),(5,7),(3,4),(2,6),(2,3),(6,8),(1,2),(3,5),(7,10),(10,15),(13,20),(24,25),(29,37)}. Execute várias vezes o algoritmo genético e o método grasp feito na aula anterior. Reporte o melhor resultado encontrado e o resultado médio obtido eplos dois algoritmos nas várias execuções. Qual o método que obteve os melhores resultados? Tente ajustar os hiperparâmetros do genético para ver se consegue melhorar seus resultados."
   ]
  },
  {
   "attachments": {},
   "cell_type": "markdown",
   "id": "tired-athletics",
   "metadata": {},
   "source": [
    "2. Explique o que é elitismo e porque ele deve ser usado de forma cautelosa? Rode várias vezes o algoritmo genético no problema da questão 1 com percentual de elitismo igual a 50%. Observe se o resultado final obteve convergência. Repita com o percentual igual a 1%. Compare em termos de convergência e resultados obtidos."
   ]
  },
  {
   "attachments": {},
   "cell_type": "markdown",
   "id": "fresh-exchange",
   "metadata": {},
   "source": [
    "3. Altere a implementação do operador de crossover do algoritmo genético para transformá-lo em um operador de segregação, isto é, para decidir aleatoriamente qual filho receberá o gene de cada pai."
   ]
  },
  {
   "attachments": {},
   "cell_type": "markdown",
   "id": "shared-edward",
   "metadata": {},
   "source": [
    "4. Liste as diferenças entre o algoritmo genético apresentado nesta aula e o constante no artigo \"A Survey of Metaheuristics Methods for Bioinformatics Applications\""
   ]
  },
  {
   "attachments": {},
   "cell_type": "markdown",
   "id": "alternate-weekend",
   "metadata": {},
   "source": [
    "5. O artigo \"Soft Computing Classifier Ensemble for Fault Diagnosis\" usa várias metaheurísticas para a construção de combinados de classificadores aplicados ao diagnóstico de falhas em motobombas. Indique quais metaheurísticas foram usadas e para quê cada uma  delas foi aplicada no trabalho."
   ]
  }
 ],
 "metadata": {
  "kernelspec": {
   "display_name": "Python 3",
   "language": "python",
   "name": "python3"
  },
  "language_info": {
   "codemirror_mode": {
    "name": "ipython",
    "version": 3
   },
   "file_extension": ".py",
   "mimetype": "text/x-python",
   "name": "python",
   "nbconvert_exporter": "python",
   "pygments_lexer": "ipython3",
   "version": "3.9.6"
  },
  "vscode": {
   "interpreter": {
    "hash": "31f2aee4e71d21fbe5cf8b01ff0e069b9275f58929596ceb00d14d90e3e16cd6"
   }
  }
 },
 "nbformat": 4,
 "nbformat_minor": 5
}
